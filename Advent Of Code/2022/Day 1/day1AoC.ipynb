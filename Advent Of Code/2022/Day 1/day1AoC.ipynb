{
 "cells": [
  {
   "attachments": {},
   "cell_type": "markdown",
   "metadata": {},
   "source": [
    "Challenges from https://adventofcode.com/2022/day/1 <br />\n",
    "Step by step solution:<br />\n",
    "Get the numbers from the day1input.txt file <br />\n",
    "The input will be a list of unformatted strings. <br />"
   ]
  },
  {
   "cell_type": "code",
   "execution_count": null,
   "metadata": {},
   "outputs": [],
   "source": [
    "input = open(\"day1input.txt\", \"r\").readlines()\n",
    "print(input)\n",
    "#e.g `['7532\\n', '10913\\n', '\\n', '5484\\n'...]`"
   ]
  },
  {
   "attachments": {},
   "cell_type": "markdown",
   "metadata": {},
   "source": [
    "Next, use `join` make the list into a string. Then, use `split(\"\\n\\n\")` to seperate each Elf's inventory, turning it into a list of strings, where each string is a group of numbers separated by a newline character(\\n).<br />"
   ]
  },
  {
   "cell_type": "code",
   "execution_count": null,
   "metadata": {},
   "outputs": [],
   "source": [
    "input = \"\".join(input).split(\"\\n\\n\")\n",
    "print(input)\n",
    "#e.g: ['7532\\n37124', '37309',...]"
   ]
  },
  {
   "attachments": {},
   "cell_type": "markdown",
   "metadata": {},
   "source": [
    "Then for each element in the list, split it by \\n, and make it into a list of ints.\n",
    "`input` is now a list of lists of ints. "
   ]
  },
  {
   "cell_type": "code",
   "execution_count": null,
   "metadata": {},
   "outputs": [],
   "source": [
    "input = [[int(x) for x in elve.split(\"\\n\")] for elve in input]\n",
    "print(input)\n",
    "#e.g [[7532, 37124], [37309], ...]"
   ]
  },
  {
   "attachments": {},
   "cell_type": "markdown",
   "metadata": {},
   "source": [
    "\n",
    "Now all we need is get the sum of each list and find the biggest sum."
   ]
  },
  {
   "cell_type": "code",
   "execution_count": 5,
   "metadata": {},
   "outputs": [
    {
     "name": "stdout",
     "output_type": "stream",
     "text": [
      "69795\n"
     ]
    }
   ],
   "source": [
    "# part 1 - find max sum - Done\n",
    "input = [sum(intList) for intList in input]\n",
    "print(max(input))"
   ]
  },
  {
   "attachments": {},
   "cell_type": "markdown",
   "metadata": {},
   "source": [
    "For part 2 - find sum of the top 3 biggest sum: we sort the list (in descending order) and get the first 3 elements. Then, sum them up."
   ]
  },
  {
   "cell_type": "code",
   "execution_count": 6,
   "metadata": {},
   "outputs": [
    {
     "name": "stdout",
     "output_type": "stream",
     "text": [
      "208437\n"
     ]
    }
   ],
   "source": [
    "input.sort(reverse=True)  # sort in descending order\n",
    "print(sum(input[:3]))"
   ]
  }
 ],
 "metadata": {
  "kernelspec": {
   "display_name": ".venv",
   "language": "python",
   "name": "python3"
  },
  "language_info": {
   "codemirror_mode": {
    "name": "ipython",
    "version": 3
   },
   "file_extension": ".py",
   "mimetype": "text/x-python",
   "name": "python",
   "nbconvert_exporter": "python",
   "pygments_lexer": "ipython3",
   "version": "3.11.2"
  },
  "orig_nbformat": 4
 },
 "nbformat": 4,
 "nbformat_minor": 2
}

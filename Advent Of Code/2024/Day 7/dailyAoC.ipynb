{
 "cells": [
  {
   "cell_type": "code",
   "execution_count": 31,
   "metadata": {},
   "outputs": [
    {
     "name": "stdout",
     "output_type": "stream",
     "text": [
      "[{190: [10, 19]}, {3267: [81, 40, 27]}, {83: [17, 5]}, {156: [15, 6]}, {7290: [6, 8, 6, 15]}, {161011: [16, 10, 13]}, {192: [17, 8, 14]}, {21037: [9, 7, 18, 13]}, {292: [11, 6, 16, 20]}]\n"
     ]
    }
   ],
   "source": [
    "input = open(\"exampleinput.txt\", \"r\").readlines()\n",
    "input = [[x for x in rule.strip().split(\":\")] for rule in input]\n",
    "# turn to int\n",
    "result = [[int(num) for item in sublist for num in item.split()] for sublist in input]\n",
    "result = [{sublist[0]: sublist[1:]} for sublist in result]\n",
    "print(result)"
   ]
  },
  {
   "cell_type": "code",
   "execution_count": 38,
   "metadata": {},
   "outputs": [
    {
     "name": "stdout",
     "output_type": "stream",
     "text": [
      "[81, 40]\n",
      "[81]\n",
      "end={81}\n",
      "end={3240, 121}\n",
      "[81]\n",
      "end={81}\n",
      "{87480, 3267, 148}\n",
      "[11, 6, 16]\n",
      "[11, 6]\n",
      "[11]\n",
      "end={11}\n",
      "end={17, 66}\n",
      "[11]\n",
      "end={11}\n",
      "end={272, 33, 82, 1056}\n",
      "[11, 6]\n",
      "[11]\n",
      "end={11}\n",
      "end={17, 66}\n",
      "[11]\n",
      "end={11}\n",
      "{5440, 21120, 292, 102, 1640, 660, 53, 1076}\n"
     ]
    }
   ],
   "source": [
    "def possible_values(numbers):\n",
    "    if len(numbers) == 1:\n",
    "        return {numbers[0]}\n",
    "    result = set()\n",
    "    print(numbers[:-1])\n",
    "    print(f\"end={possible_values(numbers[:-1])}\")\n",
    "    for possible_value in possible_values(numbers[:-1]):\n",
    "        result.add(possible_value + numbers[-1])\n",
    "        result.add(possible_value * numbers[-1])\n",
    "        # result.add(int(f\"{possible_value}{numbers[-1]}\"))\n",
    "    return result\n",
    "\n",
    "\n",
    "print(possible_values([81, 40, 27]))\n",
    "print(possible_values([11, 6, 16, 20]))"
   ]
  }
 ],
 "metadata": {
  "kernelspec": {
   "display_name": ".venv",
   "language": "python",
   "name": "python3"
  },
  "language_info": {
   "codemirror_mode": {
    "name": "ipython",
    "version": 3
   },
   "file_extension": ".py",
   "mimetype": "text/x-python",
   "name": "python",
   "nbconvert_exporter": "python",
   "pygments_lexer": "ipython3",
   "version": "3.10.6"
  },
  "orig_nbformat": 4
 },
 "nbformat": 4,
 "nbformat_minor": 2
}

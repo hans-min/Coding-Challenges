{
 "cells": [
  {
   "attachments": {},
   "cell_type": "markdown",
   "metadata": {},
   "source": [
    "Challenges from https://adventofcode.com/2023/day/2 <br />\n",
    "Get the numbers from the input.txt file <br />\n",
    "The input will be a list of unformatted strings. <br />"
   ]
  },
  {
   "cell_type": "code",
   "execution_count": 50,
   "metadata": {},
   "outputs": [
    {
     "name": "stdout",
     "output_type": "stream",
     "text": [
      "['Game 1: 5 red, 1 green; 6 red, 3 blue; 9 red; 1 blue, 1 green, 4 red; 1 green, 2 blue; 2 blue, 1 red', 'Game 2: 12 red, 2 green, 9 blue; 8 red, 12 blue; 9 red, 1 blue, 2 green; 12 blue, 8 red, 2 green; 4 red, 5 blue; 1 green, 9 blue, 10 red', 'Game 3: 2 red, 8 blue, 5 green; 10 red, 10 green, 7 blue; 9 green, 13 red, 5 blue', 'Game 4: 3 red; 1 blue, 3 green, 3 red; 3 blue, 8 green, 5 red; 8 green, 2 blue', 'Game 5: 8 blue, 1 red, 1 green; 1 blue, 1 red, 7 green; 7 green, 5 blue', 'Game 6: 2 red, 8 blue; 5 blue, 4 green; 5 blue, 4 red, 3 green; 3 red, 9 blue; 5 green, 9 blue, 7 red; 6 red, 9 blue, 5 green', 'Game 7: 3 green, 4 blue; 7 green, 3 red, 3 blue; 7 red, 4 green, 6 blue; 4 blue, 1 green, 5 red; 6 blue, 2 red, 7 green; 1 green, 4 blue, 4 red', 'Game 8: 2 blue, 12 red; 1 green, 2 blue, 10 red; 12 red, 10 blue; 5 red, 1 green, 2 blue; 13 red, 16 blue, 1 green; 2 blue, 18 red', 'Game 9: 5 green, 2 red, 13 blue; 5 green, 1 red; 7 green, 8 blue, 1 red; 16 blue; 5 blue, 2 green, 3 red', 'Game 10: 5 blue, 2 red; 13 blue, 3 red, 5 green; 2 red, 3 blue; 6 red, 9 blue, 5 green; 9 blue, 3 green, 3 red', 'Game 11: 9 red, 4 green, 3 blue; 8 blue, 8 red; 1 green, 13 blue; 11 blue, 8 red, 4 green', 'Game 12: 1 green; 1 blue, 4 red, 6 green; 1 red, 8 green; 7 red, 1 blue, 3 green; 8 green, 1 blue, 8 red', 'Game 13: 5 blue, 14 red, 1 green; 10 red, 4 blue, 1 green; 6 red, 1 green, 3 blue; 7 blue, 4 red; 14 red, 2 blue, 1 green', 'Game 14: 9 green, 1 blue; 6 red, 9 green; 7 green, 3 blue', 'Game 15: 1 green, 4 blue, 2 red; 8 red, 3 blue; 1 red, 3 blue', 'Game 16: 6 blue, 10 green, 5 red; 11 blue, 1 red; 3 red, 2 green, 3 blue; 1 green, 4 red, 6 blue; 11 blue, 2 red, 11 green', 'Game 17: 4 green, 5 blue, 8 red; 6 green, 7 red; 3 green, 8 red, 5 blue; 4 green, 8 red; 5 green, 11 blue, 3 red; 5 green, 15 blue, 1 red', 'Game 18: 7 green, 17 blue, 14 red; 4 green, 11 red, 7 blue; 13 blue, 8 green; 3 red, 7 green, 11 blue', 'Game 19: 13 red, 13 blue, 1 green; 7 blue, 1 red, 5 green; 18 blue, 1 green, 11 red; 4 blue, 13 red, 6 green', 'Game 20: 1 blue, 6 green, 7 red; 5 green, 4 red, 1 blue; 1 blue, 1 red, 4 green', 'Game 21: 3 red, 5 green, 7 blue; 6 green, 10 blue, 5 red; 9 red, 1 blue; 5 green, 8 blue, 9 red; 2 red, 11 green, 4 blue; 5 red, 6 blue', 'Game 22: 8 blue, 1 red, 1 green; 10 blue; 13 blue, 1 green, 4 red; 1 green, 8 blue, 4 red; 3 blue, 1 red', 'Game 23: 2 blue; 3 blue, 5 green; 6 blue, 5 green, 2 red; 1 green', 'Game 24: 1 red, 13 green, 4 blue; 16 green, 4 blue; 4 red, 5 blue, 11 green; 15 green, 5 red, 10 blue; 16 green, 1 red; 5 red, 3 blue, 10 green', 'Game 25: 12 red, 7 green, 6 blue; 5 blue, 5 red, 12 green; 12 green, 3 red; 5 green, 5 red, 3 blue', 'Game 26: 2 green, 11 blue; 5 red, 3 blue; 5 red, 12 blue, 3 green', 'Game 27: 3 green, 5 red, 12 blue; 3 red, 11 blue, 1 green; 3 red, 4 blue, 3 green; 3 red, 9 green, 9 blue; 14 blue, 1 green, 12 red', 'Game 28: 8 green, 9 blue; 6 green, 8 red, 1 blue; 7 red, 6 green; 12 red, 2 blue, 2 green', 'Game 29: 16 red, 4 green, 1 blue; 10 red, 7 green, 2 blue; 3 green, 8 red; 2 blue, 1 red, 4 green; 2 blue, 10 red, 9 green; 7 green, 1 blue, 18 red', 'Game 30: 13 red, 3 blue; 3 blue, 1 green, 10 red; 15 red, 3 blue; 1 green, 1 red, 1 blue; 16 red, 1 green, 3 blue', 'Game 31: 5 red, 8 blue, 3 green; 5 green, 7 blue, 13 red; 9 red, 3 green, 10 blue; 15 red, 1 green, 7 blue; 5 green, 12 blue, 2 red; 6 blue, 13 red', 'Game 32: 2 blue, 8 red, 1 green; 3 green, 2 blue, 11 red; 2 green, 6 red; 13 red, 3 green, 2 blue; 6 red', 'Game 33: 5 blue, 5 red; 8 red, 1 green, 7 blue; 1 green, 6 red', 'Game 34: 3 blue; 3 green, 2 blue, 2 red; 3 green, 1 blue, 3 red; 3 blue', 'Game 35: 4 red, 2 blue, 6 green; 4 blue, 9 red, 10 green; 3 blue, 8 green, 1 red; 3 red, 1 green, 4 blue; 4 green, 7 blue; 8 red, 8 green, 2 blue', 'Game 36: 1 red, 3 blue, 12 green; 16 green, 7 blue, 1 red; 1 blue, 1 red, 9 green; 2 blue, 2 green; 8 green, 2 red', 'Game 37: 2 green, 8 red; 3 blue, 1 red, 2 green; 15 red, 7 blue; 1 green, 16 red, 15 blue; 13 red, 9 blue', 'Game 38: 9 red, 9 blue, 5 green; 3 red, 19 blue, 8 green; 15 blue, 11 red, 6 green; 10 red, 19 blue, 5 green; 8 blue, 7 green, 6 red; 7 red, 6 green, 10 blue', 'Game 39: 8 blue, 13 green, 2 red; 16 blue, 9 green; 19 blue, 1 green; 1 red, 3 blue, 9 green; 1 green, 18 blue', 'Game 40: 6 red, 5 blue; 11 green, 15 blue, 7 red; 10 blue, 5 green, 10 red; 13 blue, 9 red, 11 green; 2 green, 14 blue, 12 red; 6 red, 6 green', 'Game 41: 10 green, 1 red, 1 blue; 1 red, 9 green; 1 green; 6 green, 1 blue, 2 red; 1 blue, 8 green, 1 red; 9 green', 'Game 42: 13 green, 2 blue; 10 blue, 1 red; 10 red, 10 green, 8 blue; 16 green, 8 blue, 6 red; 9 red, 18 green; 10 red, 15 blue, 1 green', 'Game 43: 3 red, 16 blue, 6 green; 1 red, 17 blue, 12 green; 19 blue, 2 red, 16 green; 12 green, 7 blue, 1 red; 8 green, 7 blue, 2 red; 12 green, 9 blue', 'Game 44: 4 red, 3 green, 2 blue; 18 blue, 3 green; 7 red, 7 blue, 4 green', 'Game 45: 1 green, 3 blue, 7 red; 9 green, 8 red, 2 blue; 5 green, 3 blue, 6 red', 'Game 46: 18 blue; 4 blue, 1 red, 5 green; 2 red, 15 blue, 7 green', 'Game 47: 17 red, 4 green, 12 blue; 6 green, 1 red, 2 blue; 3 blue, 13 green, 4 red', 'Game 48: 11 red, 2 green; 8 red, 3 green; 2 green, 5 blue, 9 red; 3 green, 2 blue, 5 red', 'Game 49: 2 green, 12 blue, 9 red; 1 green, 12 red; 1 green, 2 blue, 18 red; 8 blue, 19 red; 1 green, 5 blue; 3 blue, 10 red, 1 green', 'Game 50: 5 green, 1 red; 7 red, 3 blue, 9 green; 15 blue, 4 green, 4 red', 'Game 51: 12 green, 14 blue; 2 red, 5 green, 16 blue; 4 red, 17 blue, 16 green; 6 blue, 16 green, 2 red; 17 blue, 13 green, 5 red', 'Game 52: 7 green, 10 red, 2 blue; 6 green, 12 red, 3 blue; 10 red, 3 blue, 8 green; 3 blue, 1 green, 8 red; 6 green, 5 blue, 3 red', 'Game 53: 8 blue, 3 green; 7 green, 11 blue, 1 red; 1 red, 7 blue, 9 green; 1 blue, 1 green; 4 green, 1 red; 1 red, 8 blue', 'Game 54: 1 blue, 1 green, 4 red; 1 red, 1 blue, 13 green; 11 red, 11 green, 1 blue', 'Game 55: 5 blue, 4 red, 11 green; 13 green, 9 blue, 3 red; 3 red, 7 green, 8 blue; 2 red, 20 blue, 2 green; 3 red, 10 blue, 1 green; 12 green, 5 red, 8 blue', 'Game 56: 17 red, 2 green, 1 blue; 13 blue, 8 green, 6 red; 1 green, 9 blue, 6 red; 2 blue', 'Game 57: 9 green, 1 red, 9 blue; 15 green, 10 blue, 1 red; 5 blue, 3 red, 10 green', 'Game 58: 14 red, 2 blue, 14 green; 17 red, 7 blue, 10 green; 4 green, 13 red, 11 blue; 3 green, 13 red, 5 blue; 13 red, 6 blue; 1 red, 7 green, 2 blue', 'Game 59: 16 blue, 7 red, 2 green; 7 green, 10 red, 12 blue; 4 red, 9 green, 14 blue; 8 blue, 11 green, 1 red; 3 blue, 5 red, 11 green', 'Game 60: 1 blue; 9 red, 4 green; 3 green, 3 blue, 1 red; 3 red, 1 blue', 'Game 61: 2 green, 15 red, 12 blue; 9 green, 1 blue, 10 red; 14 blue, 17 red, 2 green; 12 red, 6 blue, 3 green; 8 green, 10 blue, 10 red; 2 green, 10 red, 2 blue', 'Game 62: 12 red, 6 blue, 1 green; 2 red, 1 green, 4 blue; 10 blue, 12 red, 4 green; 5 green, 8 red, 8 blue', 'Game 63: 3 green, 3 red; 7 red; 2 green, 1 blue, 7 red; 5 red, 1 green', 'Game 64: 5 green, 11 red; 4 green, 2 blue, 7 red; 7 red, 11 blue, 3 green; 8 blue, 5 green, 5 red; 8 red, 4 blue', 'Game 65: 5 red, 5 blue; 15 green, 3 blue; 3 blue, 3 red, 8 green; 1 blue, 3 red, 5 green', 'Game 66: 8 green, 5 blue, 12 red; 10 red, 5 blue, 11 green; 12 red, 3 blue, 2 green; 5 green, 1 blue, 10 red; 15 red, 5 green, 3 blue; 2 red, 8 blue', 'Game 67: 12 blue, 3 red; 4 blue, 4 red, 1 green; 9 green, 14 blue, 3 red; 2 red, 13 blue, 6 green; 17 blue, 5 green', 'Game 68: 1 blue, 4 red, 11 green; 11 green, 4 red, 7 blue; 11 green, 7 blue; 14 green, 2 blue, 1 red; 2 blue, 4 red', 'Game 69: 4 red, 1 green; 5 red, 2 green, 3 blue; 1 red, 7 blue; 8 red, 6 blue, 1 green; 2 green, 6 red, 1 blue; 6 red, 8 blue, 2 green', 'Game 70: 6 blue, 2 green, 4 red; 1 green, 5 blue; 1 blue, 3 red; 2 red; 2 red, 17 blue', 'Game 71: 9 blue, 2 green, 1 red; 7 blue, 2 green, 3 red; 12 red, 13 blue; 15 blue, 1 green, 1 red', 'Game 72: 15 blue, 16 red, 18 green; 16 red, 12 blue, 14 green; 3 blue, 12 red, 4 green; 8 green, 17 blue, 15 red; 15 blue, 18 green, 4 red; 5 blue, 3 red, 10 green', 'Game 73: 17 blue, 3 red, 19 green; 10 blue, 15 green, 18 red; 4 green, 15 red; 1 green, 17 blue, 14 red; 16 red, 1 green, 4 blue', 'Game 74: 6 green, 2 blue, 5 red; 1 blue, 9 green; 5 red, 1 blue, 10 green; 4 green, 11 red, 1 blue', 'Game 75: 4 blue; 4 green, 6 blue; 2 green, 2 blue, 4 red', 'Game 76: 5 blue; 5 green, 5 red; 9 red, 1 blue, 1 green; 5 green; 3 green, 6 red, 1 blue', 'Game 77: 2 red, 10 blue, 6 green; 1 red, 6 blue, 6 green; 9 blue, 2 green, 8 red; 12 blue, 7 green, 18 red', 'Game 78: 2 red, 5 blue, 2 green; 2 blue, 4 green, 6 red; 4 blue, 4 green, 3 red; 3 red, 5 green; 2 red, 4 green, 4 blue', 'Game 79: 14 red, 6 blue, 1 green; 6 blue, 18 red, 2 green; 1 green; 8 red, 5 green; 1 blue, 7 red, 6 green; 11 red, 1 blue', 'Game 80: 5 blue, 4 red; 19 blue, 7 red; 6 red, 1 green, 12 blue; 1 green, 8 red', 'Game 81: 7 green, 6 red, 9 blue; 14 blue, 8 green; 15 green, 6 red, 4 blue; 1 red, 7 blue, 19 green', 'Game 82: 1 red, 4 blue; 3 blue, 1 red, 5 green; 3 blue, 5 green, 12 red; 17 red, 2 blue; 4 blue, 1 red', 'Game 83: 6 blue, 11 green, 18 red; 11 red, 7 blue, 2 green; 13 red, 14 blue, 14 green; 1 red, 3 blue, 16 green', 'Game 84: 2 red, 5 blue, 3 green; 9 red, 7 blue, 2 green; 4 green, 9 red, 3 blue; 1 blue, 1 green, 5 red', 'Game 85: 1 red, 10 green, 15 blue; 9 green, 1 red; 1 red, 2 green, 12 blue', 'Game 86: 1 green, 5 blue, 8 red; 10 green, 8 red, 9 blue; 6 green, 3 red, 8 blue; 9 red, 3 green, 8 blue; 2 red, 6 blue, 1 green', 'Game 87: 13 red, 12 green; 6 blue, 5 green, 3 red; 10 green, 1 blue, 17 red; 9 green, 6 blue, 2 red; 1 blue, 9 green, 14 red', 'Game 88: 4 green, 1 blue, 7 red; 6 green, 2 red, 1 blue; 13 red, 7 green', 'Game 89: 2 blue, 7 green, 10 red; 6 green, 5 blue; 12 red, 4 blue, 5 green; 15 red, 8 blue; 6 blue, 8 red, 3 green; 14 red, 11 green, 16 blue', 'Game 90: 8 green, 8 red; 5 green, 1 blue, 13 red; 3 blue, 1 green, 3 red; 11 red, 2 green; 9 red, 7 green, 1 blue', 'Game 91: 4 green, 13 red, 10 blue; 11 blue, 4 red; 10 blue, 9 green; 9 green, 4 blue, 12 red; 7 green, 4 red, 1 blue', 'Game 92: 6 blue; 10 green, 1 red, 11 blue; 5 blue, 5 green; 6 green, 1 red; 1 red, 6 green', 'Game 93: 2 red, 15 blue, 4 green; 13 red, 11 green; 6 green, 1 blue, 6 red; 6 red, 5 blue, 10 green; 2 blue, 11 green, 18 red', 'Game 94: 2 red, 13 blue, 3 green; 15 blue, 4 red, 2 green; 4 green, 9 blue, 7 red; 12 blue, 6 red, 11 green; 20 blue, 13 red, 11 green', 'Game 95: 6 blue, 1 red, 10 green; 10 red, 5 blue, 7 green; 9 red, 13 green, 10 blue; 11 blue, 9 red, 8 green', 'Game 96: 2 red, 7 green, 16 blue; 20 green, 2 red, 14 blue; 5 red, 15 green, 15 blue; 4 blue, 6 red, 15 green; 6 green, 6 red, 10 blue', 'Game 97: 1 red, 1 blue, 14 green; 10 green, 12 red, 1 blue; 10 red, 2 green, 1 blue; 1 blue, 3 green, 14 red; 3 red, 2 blue, 13 green; 1 blue, 3 green, 13 red', 'Game 98: 13 blue, 1 green; 18 green, 6 red, 3 blue; 11 blue, 7 red, 9 green; 4 red, 6 green, 11 blue; 12 blue, 6 red, 8 green', 'Game 99: 4 blue; 1 red, 2 green, 11 blue; 12 blue, 1 green, 1 red; 11 blue, 6 green; 1 red, 7 green, 8 blue', 'Game 100: 10 blue, 5 green; 4 green, 3 red, 6 blue; 2 green, 4 red, 1 blue']\n"
     ]
    }
   ],
   "source": [
    "input = open(\"input.txt\", \"r\").readlines()\n",
    "input = [elve.strip() for elve in input]\n",
    "print(input)"
   ]
  },
  {
   "cell_type": "code",
   "execution_count": 51,
   "metadata": {},
   "outputs": [
    {
     "name": "stdout",
     "output_type": "stream",
     "text": [
      "[[' 5 red, 1 green', ' 6 red, 3 blue', ' 9 red', ' 1 blue, 1 green, 4 red', ' 1 green, 2 blue', ' 2 blue, 1 red'], [' 12 red, 2 green, 9 blue', ' 8 red, 12 blue', ' 9 red, 1 blue, 2 green', ' 12 blue, 8 red, 2 green', ' 4 red, 5 blue', ' 1 green, 9 blue, 10 red'], [' 2 red, 8 blue, 5 green', ' 10 red, 10 green, 7 blue', ' 9 green, 13 red, 5 blue'], [' 3 red', ' 1 blue, 3 green, 3 red', ' 3 blue, 8 green, 5 red', ' 8 green, 2 blue'], [' 8 blue, 1 red, 1 green', ' 1 blue, 1 red, 7 green', ' 7 green, 5 blue'], [' 2 red, 8 blue', ' 5 blue, 4 green', ' 5 blue, 4 red, 3 green', ' 3 red, 9 blue', ' 5 green, 9 blue, 7 red', ' 6 red, 9 blue, 5 green'], [' 3 green, 4 blue', ' 7 green, 3 red, 3 blue', ' 7 red, 4 green, 6 blue', ' 4 blue, 1 green, 5 red', ' 6 blue, 2 red, 7 green', ' 1 green, 4 blue, 4 red'], [' 2 blue, 12 red', ' 1 green, 2 blue, 10 red', ' 12 red, 10 blue', ' 5 red, 1 green, 2 blue', ' 13 red, 16 blue, 1 green', ' 2 blue, 18 red'], [' 5 green, 2 red, 13 blue', ' 5 green, 1 red', ' 7 green, 8 blue, 1 red', ' 16 blue', ' 5 blue, 2 green, 3 red'], [' 5 blue, 2 red', ' 13 blue, 3 red, 5 green', ' 2 red, 3 blue', ' 6 red, 9 blue, 5 green', ' 9 blue, 3 green, 3 red'], [' 9 red, 4 green, 3 blue', ' 8 blue, 8 red', ' 1 green, 13 blue', ' 11 blue, 8 red, 4 green'], [' 1 green', ' 1 blue, 4 red, 6 green', ' 1 red, 8 green', ' 7 red, 1 blue, 3 green', ' 8 green, 1 blue, 8 red'], [' 5 blue, 14 red, 1 green', ' 10 red, 4 blue, 1 green', ' 6 red, 1 green, 3 blue', ' 7 blue, 4 red', ' 14 red, 2 blue, 1 green'], [' 9 green, 1 blue', ' 6 red, 9 green', ' 7 green, 3 blue'], [' 1 green, 4 blue, 2 red', ' 8 red, 3 blue', ' 1 red, 3 blue'], [' 6 blue, 10 green, 5 red', ' 11 blue, 1 red', ' 3 red, 2 green, 3 blue', ' 1 green, 4 red, 6 blue', ' 11 blue, 2 red, 11 green'], [' 4 green, 5 blue, 8 red', ' 6 green, 7 red', ' 3 green, 8 red, 5 blue', ' 4 green, 8 red', ' 5 green, 11 blue, 3 red', ' 5 green, 15 blue, 1 red'], [' 7 green, 17 blue, 14 red', ' 4 green, 11 red, 7 blue', ' 13 blue, 8 green', ' 3 red, 7 green, 11 blue'], [' 13 red, 13 blue, 1 green', ' 7 blue, 1 red, 5 green', ' 18 blue, 1 green, 11 red', ' 4 blue, 13 red, 6 green'], [' 1 blue, 6 green, 7 red', ' 5 green, 4 red, 1 blue', ' 1 blue, 1 red, 4 green'], [' 3 red, 5 green, 7 blue', ' 6 green, 10 blue, 5 red', ' 9 red, 1 blue', ' 5 green, 8 blue, 9 red', ' 2 red, 11 green, 4 blue', ' 5 red, 6 blue'], [' 8 blue, 1 red, 1 green', ' 10 blue', ' 13 blue, 1 green, 4 red', ' 1 green, 8 blue, 4 red', ' 3 blue, 1 red'], [' 2 blue', ' 3 blue, 5 green', ' 6 blue, 5 green, 2 red', ' 1 green'], [' 1 red, 13 green, 4 blue', ' 16 green, 4 blue', ' 4 red, 5 blue, 11 green', ' 15 green, 5 red, 10 blue', ' 16 green, 1 red', ' 5 red, 3 blue, 10 green'], [' 12 red, 7 green, 6 blue', ' 5 blue, 5 red, 12 green', ' 12 green, 3 red', ' 5 green, 5 red, 3 blue'], [' 2 green, 11 blue', ' 5 red, 3 blue', ' 5 red, 12 blue, 3 green'], [' 3 green, 5 red, 12 blue', ' 3 red, 11 blue, 1 green', ' 3 red, 4 blue, 3 green', ' 3 red, 9 green, 9 blue', ' 14 blue, 1 green, 12 red'], [' 8 green, 9 blue', ' 6 green, 8 red, 1 blue', ' 7 red, 6 green', ' 12 red, 2 blue, 2 green'], [' 16 red, 4 green, 1 blue', ' 10 red, 7 green, 2 blue', ' 3 green, 8 red', ' 2 blue, 1 red, 4 green', ' 2 blue, 10 red, 9 green', ' 7 green, 1 blue, 18 red'], [' 13 red, 3 blue', ' 3 blue, 1 green, 10 red', ' 15 red, 3 blue', ' 1 green, 1 red, 1 blue', ' 16 red, 1 green, 3 blue'], [' 5 red, 8 blue, 3 green', ' 5 green, 7 blue, 13 red', ' 9 red, 3 green, 10 blue', ' 15 red, 1 green, 7 blue', ' 5 green, 12 blue, 2 red', ' 6 blue, 13 red'], [' 2 blue, 8 red, 1 green', ' 3 green, 2 blue, 11 red', ' 2 green, 6 red', ' 13 red, 3 green, 2 blue', ' 6 red'], [' 5 blue, 5 red', ' 8 red, 1 green, 7 blue', ' 1 green, 6 red'], [' 3 blue', ' 3 green, 2 blue, 2 red', ' 3 green, 1 blue, 3 red', ' 3 blue'], [' 4 red, 2 blue, 6 green', ' 4 blue, 9 red, 10 green', ' 3 blue, 8 green, 1 red', ' 3 red, 1 green, 4 blue', ' 4 green, 7 blue', ' 8 red, 8 green, 2 blue'], [' 1 red, 3 blue, 12 green', ' 16 green, 7 blue, 1 red', ' 1 blue, 1 red, 9 green', ' 2 blue, 2 green', ' 8 green, 2 red'], [' 2 green, 8 red', ' 3 blue, 1 red, 2 green', ' 15 red, 7 blue', ' 1 green, 16 red, 15 blue', ' 13 red, 9 blue'], [' 9 red, 9 blue, 5 green', ' 3 red, 19 blue, 8 green', ' 15 blue, 11 red, 6 green', ' 10 red, 19 blue, 5 green', ' 8 blue, 7 green, 6 red', ' 7 red, 6 green, 10 blue'], [' 8 blue, 13 green, 2 red', ' 16 blue, 9 green', ' 19 blue, 1 green', ' 1 red, 3 blue, 9 green', ' 1 green, 18 blue'], [' 6 red, 5 blue', ' 11 green, 15 blue, 7 red', ' 10 blue, 5 green, 10 red', ' 13 blue, 9 red, 11 green', ' 2 green, 14 blue, 12 red', ' 6 red, 6 green'], [' 10 green, 1 red, 1 blue', ' 1 red, 9 green', ' 1 green', ' 6 green, 1 blue, 2 red', ' 1 blue, 8 green, 1 red', ' 9 green'], [' 13 green, 2 blue', ' 10 blue, 1 red', ' 10 red, 10 green, 8 blue', ' 16 green, 8 blue, 6 red', ' 9 red, 18 green', ' 10 red, 15 blue, 1 green'], [' 3 red, 16 blue, 6 green', ' 1 red, 17 blue, 12 green', ' 19 blue, 2 red, 16 green', ' 12 green, 7 blue, 1 red', ' 8 green, 7 blue, 2 red', ' 12 green, 9 blue'], [' 4 red, 3 green, 2 blue', ' 18 blue, 3 green', ' 7 red, 7 blue, 4 green'], [' 1 green, 3 blue, 7 red', ' 9 green, 8 red, 2 blue', ' 5 green, 3 blue, 6 red'], [' 18 blue', ' 4 blue, 1 red, 5 green', ' 2 red, 15 blue, 7 green'], [' 17 red, 4 green, 12 blue', ' 6 green, 1 red, 2 blue', ' 3 blue, 13 green, 4 red'], [' 11 red, 2 green', ' 8 red, 3 green', ' 2 green, 5 blue, 9 red', ' 3 green, 2 blue, 5 red'], [' 2 green, 12 blue, 9 red', ' 1 green, 12 red', ' 1 green, 2 blue, 18 red', ' 8 blue, 19 red', ' 1 green, 5 blue', ' 3 blue, 10 red, 1 green'], [' 5 green, 1 red', ' 7 red, 3 blue, 9 green', ' 15 blue, 4 green, 4 red'], [' 12 green, 14 blue', ' 2 red, 5 green, 16 blue', ' 4 red, 17 blue, 16 green', ' 6 blue, 16 green, 2 red', ' 17 blue, 13 green, 5 red'], [' 7 green, 10 red, 2 blue', ' 6 green, 12 red, 3 blue', ' 10 red, 3 blue, 8 green', ' 3 blue, 1 green, 8 red', ' 6 green, 5 blue, 3 red'], [' 8 blue, 3 green', ' 7 green, 11 blue, 1 red', ' 1 red, 7 blue, 9 green', ' 1 blue, 1 green', ' 4 green, 1 red', ' 1 red, 8 blue'], [' 1 blue, 1 green, 4 red', ' 1 red, 1 blue, 13 green', ' 11 red, 11 green, 1 blue'], [' 5 blue, 4 red, 11 green', ' 13 green, 9 blue, 3 red', ' 3 red, 7 green, 8 blue', ' 2 red, 20 blue, 2 green', ' 3 red, 10 blue, 1 green', ' 12 green, 5 red, 8 blue'], [' 17 red, 2 green, 1 blue', ' 13 blue, 8 green, 6 red', ' 1 green, 9 blue, 6 red', ' 2 blue'], [' 9 green, 1 red, 9 blue', ' 15 green, 10 blue, 1 red', ' 5 blue, 3 red, 10 green'], [' 14 red, 2 blue, 14 green', ' 17 red, 7 blue, 10 green', ' 4 green, 13 red, 11 blue', ' 3 green, 13 red, 5 blue', ' 13 red, 6 blue', ' 1 red, 7 green, 2 blue'], [' 16 blue, 7 red, 2 green', ' 7 green, 10 red, 12 blue', ' 4 red, 9 green, 14 blue', ' 8 blue, 11 green, 1 red', ' 3 blue, 5 red, 11 green'], [' 1 blue', ' 9 red, 4 green', ' 3 green, 3 blue, 1 red', ' 3 red, 1 blue'], [' 2 green, 15 red, 12 blue', ' 9 green, 1 blue, 10 red', ' 14 blue, 17 red, 2 green', ' 12 red, 6 blue, 3 green', ' 8 green, 10 blue, 10 red', ' 2 green, 10 red, 2 blue'], [' 12 red, 6 blue, 1 green', ' 2 red, 1 green, 4 blue', ' 10 blue, 12 red, 4 green', ' 5 green, 8 red, 8 blue'], [' 3 green, 3 red', ' 7 red', ' 2 green, 1 blue, 7 red', ' 5 red, 1 green'], [' 5 green, 11 red', ' 4 green, 2 blue, 7 red', ' 7 red, 11 blue, 3 green', ' 8 blue, 5 green, 5 red', ' 8 red, 4 blue'], [' 5 red, 5 blue', ' 15 green, 3 blue', ' 3 blue, 3 red, 8 green', ' 1 blue, 3 red, 5 green'], [' 8 green, 5 blue, 12 red', ' 10 red, 5 blue, 11 green', ' 12 red, 3 blue, 2 green', ' 5 green, 1 blue, 10 red', ' 15 red, 5 green, 3 blue', ' 2 red, 8 blue'], [' 12 blue, 3 red', ' 4 blue, 4 red, 1 green', ' 9 green, 14 blue, 3 red', ' 2 red, 13 blue, 6 green', ' 17 blue, 5 green'], [' 1 blue, 4 red, 11 green', ' 11 green, 4 red, 7 blue', ' 11 green, 7 blue', ' 14 green, 2 blue, 1 red', ' 2 blue, 4 red'], [' 4 red, 1 green', ' 5 red, 2 green, 3 blue', ' 1 red, 7 blue', ' 8 red, 6 blue, 1 green', ' 2 green, 6 red, 1 blue', ' 6 red, 8 blue, 2 green'], [' 6 blue, 2 green, 4 red', ' 1 green, 5 blue', ' 1 blue, 3 red', ' 2 red', ' 2 red, 17 blue'], [' 9 blue, 2 green, 1 red', ' 7 blue, 2 green, 3 red', ' 12 red, 13 blue', ' 15 blue, 1 green, 1 red'], [' 15 blue, 16 red, 18 green', ' 16 red, 12 blue, 14 green', ' 3 blue, 12 red, 4 green', ' 8 green, 17 blue, 15 red', ' 15 blue, 18 green, 4 red', ' 5 blue, 3 red, 10 green'], [' 17 blue, 3 red, 19 green', ' 10 blue, 15 green, 18 red', ' 4 green, 15 red', ' 1 green, 17 blue, 14 red', ' 16 red, 1 green, 4 blue'], [' 6 green, 2 blue, 5 red', ' 1 blue, 9 green', ' 5 red, 1 blue, 10 green', ' 4 green, 11 red, 1 blue'], [' 4 blue', ' 4 green, 6 blue', ' 2 green, 2 blue, 4 red'], [' 5 blue', ' 5 green, 5 red', ' 9 red, 1 blue, 1 green', ' 5 green', ' 3 green, 6 red, 1 blue'], [' 2 red, 10 blue, 6 green', ' 1 red, 6 blue, 6 green', ' 9 blue, 2 green, 8 red', ' 12 blue, 7 green, 18 red'], [' 2 red, 5 blue, 2 green', ' 2 blue, 4 green, 6 red', ' 4 blue, 4 green, 3 red', ' 3 red, 5 green', ' 2 red, 4 green, 4 blue'], [' 14 red, 6 blue, 1 green', ' 6 blue, 18 red, 2 green', ' 1 green', ' 8 red, 5 green', ' 1 blue, 7 red, 6 green', ' 11 red, 1 blue'], [' 5 blue, 4 red', ' 19 blue, 7 red', ' 6 red, 1 green, 12 blue', ' 1 green, 8 red'], [' 7 green, 6 red, 9 blue', ' 14 blue, 8 green', ' 15 green, 6 red, 4 blue', ' 1 red, 7 blue, 19 green'], [' 1 red, 4 blue', ' 3 blue, 1 red, 5 green', ' 3 blue, 5 green, 12 red', ' 17 red, 2 blue', ' 4 blue, 1 red'], [' 6 blue, 11 green, 18 red', ' 11 red, 7 blue, 2 green', ' 13 red, 14 blue, 14 green', ' 1 red, 3 blue, 16 green'], [' 2 red, 5 blue, 3 green', ' 9 red, 7 blue, 2 green', ' 4 green, 9 red, 3 blue', ' 1 blue, 1 green, 5 red'], [' 1 red, 10 green, 15 blue', ' 9 green, 1 red', ' 1 red, 2 green, 12 blue'], [' 1 green, 5 blue, 8 red', ' 10 green, 8 red, 9 blue', ' 6 green, 3 red, 8 blue', ' 9 red, 3 green, 8 blue', ' 2 red, 6 blue, 1 green'], [' 13 red, 12 green', ' 6 blue, 5 green, 3 red', ' 10 green, 1 blue, 17 red', ' 9 green, 6 blue, 2 red', ' 1 blue, 9 green, 14 red'], [' 4 green, 1 blue, 7 red', ' 6 green, 2 red, 1 blue', ' 13 red, 7 green'], [' 2 blue, 7 green, 10 red', ' 6 green, 5 blue', ' 12 red, 4 blue, 5 green', ' 15 red, 8 blue', ' 6 blue, 8 red, 3 green', ' 14 red, 11 green, 16 blue'], [' 8 green, 8 red', ' 5 green, 1 blue, 13 red', ' 3 blue, 1 green, 3 red', ' 11 red, 2 green', ' 9 red, 7 green, 1 blue'], [' 4 green, 13 red, 10 blue', ' 11 blue, 4 red', ' 10 blue, 9 green', ' 9 green, 4 blue, 12 red', ' 7 green, 4 red, 1 blue'], [' 6 blue', ' 10 green, 1 red, 11 blue', ' 5 blue, 5 green', ' 6 green, 1 red', ' 1 red, 6 green'], [' 2 red, 15 blue, 4 green', ' 13 red, 11 green', ' 6 green, 1 blue, 6 red', ' 6 red, 5 blue, 10 green', ' 2 blue, 11 green, 18 red'], [' 2 red, 13 blue, 3 green', ' 15 blue, 4 red, 2 green', ' 4 green, 9 blue, 7 red', ' 12 blue, 6 red, 11 green', ' 20 blue, 13 red, 11 green'], [' 6 blue, 1 red, 10 green', ' 10 red, 5 blue, 7 green', ' 9 red, 13 green, 10 blue', ' 11 blue, 9 red, 8 green'], [' 2 red, 7 green, 16 blue', ' 20 green, 2 red, 14 blue', ' 5 red, 15 green, 15 blue', ' 4 blue, 6 red, 15 green', ' 6 green, 6 red, 10 blue'], [' 1 red, 1 blue, 14 green', ' 10 green, 12 red, 1 blue', ' 10 red, 2 green, 1 blue', ' 1 blue, 3 green, 14 red', ' 3 red, 2 blue, 13 green', ' 1 blue, 3 green, 13 red'], [' 13 blue, 1 green', ' 18 green, 6 red, 3 blue', ' 11 blue, 7 red, 9 green', ' 4 red, 6 green, 11 blue', ' 12 blue, 6 red, 8 green'], [' 4 blue', ' 1 red, 2 green, 11 blue', ' 12 blue, 1 green, 1 red', ' 11 blue, 6 green', ' 1 red, 7 green, 8 blue'], [' 10 blue, 5 green', ' 4 green, 3 red, 6 blue', ' 2 green, 4 red, 1 blue']]\n"
     ]
    }
   ],
   "source": [
    "input = [game.split(';') for game in input]\n",
    "for game in input:\n",
    "  ind = game[0].find(':')\n",
    "  game[0] = game[0][ind+1:]\n",
    "  continue\n",
    "print(input)"
   ]
  },
  {
   "cell_type": "markdown",
   "metadata": {},
   "source": [
    "Part 1: Determine which games would have been possible if the bag had been loaded with only 12 red cubes, 13 green cubes, and 14 blue cubes. What is the sum of the IDs of those games?"
   ]
  },
  {
   "cell_type": "code",
   "execution_count": 52,
   "metadata": {},
   "outputs": [
    {
     "name": "stdout",
     "output_type": "stream",
     "text": [
      "game 3 fail at [13, 'red']\n",
      "game 8 fail at [13, 'red']\n",
      "game 9 fail at [16, 'blue']\n",
      "game 13 fail at [14, 'red']\n",
      "game 17 fail at [15, 'blue']\n",
      "game 18 fail at [17, 'blue']\n",
      "game 19 fail at [13, 'red']\n",
      "game 24 fail at [16, 'green']\n",
      "game 29 fail at [16, 'red']\n",
      "game 30 fail at [13, 'red']\n",
      "game 31 fail at [13, 'red']\n",
      "game 32 fail at [13, 'red']\n",
      "game 36 fail at [16, 'green']\n",
      "game 37 fail at [15, 'red']\n",
      "game 38 fail at [19, 'blue']\n",
      "game 39 fail at [16, 'blue']\n",
      "game 40 fail at [15, 'blue']\n",
      "game 42 fail at [16, 'green']\n",
      "game 43 fail at [16, 'blue']\n",
      "game 44 fail at [18, 'blue']\n",
      "game 46 fail at [18, 'blue']\n",
      "game 47 fail at [17, 'red']\n",
      "game 49 fail at [18, 'red']\n",
      "game 50 fail at [15, 'blue']\n",
      "game 51 fail at [16, 'blue']\n",
      "game 55 fail at [20, 'blue']\n",
      "game 56 fail at [17, 'red']\n",
      "game 57 fail at [15, 'green']\n",
      "game 58 fail at [14, 'red']\n",
      "game 59 fail at [16, 'blue']\n",
      "game 61 fail at [15, 'red']\n",
      "game 65 fail at [15, 'green']\n",
      "game 66 fail at [15, 'red']\n",
      "game 67 fail at [17, 'blue']\n",
      "game 68 fail at [14, 'green']\n",
      "game 70 fail at [17, 'blue']\n",
      "game 71 fail at [15, 'blue']\n",
      "game 72 fail at [15, 'blue']\n",
      "game 73 fail at [17, 'blue']\n",
      "game 77 fail at [18, 'red']\n",
      "game 79 fail at [14, 'red']\n",
      "game 80 fail at [19, 'blue']\n",
      "game 81 fail at [15, 'green']\n",
      "game 82 fail at [17, 'red']\n",
      "game 83 fail at [18, 'red']\n",
      "game 85 fail at [15, 'blue']\n",
      "game 87 fail at [13, 'red']\n",
      "game 88 fail at [13, 'red']\n",
      "game 89 fail at [15, 'red']\n",
      "game 90 fail at [13, 'red']\n",
      "game 91 fail at [13, 'red']\n",
      "game 93 fail at [15, 'blue']\n",
      "game 94 fail at [15, 'blue']\n",
      "game 96 fail at [16, 'blue']\n",
      "game 97 fail at [14, 'green']\n",
      "game 98 fail at [18, 'green']\n",
      "[1, 2, 4, 5, 6, 7, 10, 11, 12, 14, 15, 16, 20, 21, 22, 23, 25, 26, 27, 28, 33, 34, 35, 41, 45, 48, 52, 53, 54, 60, 62, 63, 64, 69, 74, 75, 76, 78, 84, 86, 92, 95, 99, 100]\n",
      "1867\n"
     ]
    }
   ],
   "source": [
    "output = [] \n",
    "#12 red cubes, 13 green cubes, and 14 blue cubes\n",
    "for index, game in enumerate(input):\n",
    "    for configuration in game:\n",
    "        configuration = configuration.split(',')\n",
    "        for play in configuration:\n",
    "            play = play.split()\n",
    "            play[0] = int(play[0])\n",
    "            if (play[1] == 'red' and play[0] > 12) or (play[1]=='green' and play[0] > 13) or (play[1]=='blue' and play[0] > 14):\n",
    "                print(f'game {index+1} fail at {play}')\n",
    "                break\n",
    "        else:\n",
    "            continue\n",
    "        break\n",
    "    else:\n",
    "        output.append(index+1)\n",
    "        continue\n",
    "print(output)\n",
    "print(sum(output))"
   ]
  },
  {
   "cell_type": "markdown",
   "metadata": {},
   "source": [
    "Part 2: For each game, find the minimum set of cubes that must have been present. What is the sum of the power of these sets?"
   ]
  },
  {
   "cell_type": "code",
   "execution_count": 53,
   "metadata": {},
   "outputs": [],
   "source": [
    "def findMaxOfColors(game):\n",
    "    red = 0\n",
    "    green = 0\n",
    "    blue = 0\n",
    "    for configuration in game:\n",
    "        configuration = configuration.split(',')\n",
    "        for play in configuration:\n",
    "            play = play.split()\n",
    "            play[0] = int(play[0])\n",
    "            if play[1] == 'red':\n",
    "                red = max(red, play[0])\n",
    "            elif play[1] == 'green':\n",
    "                green = max(green, play[0])\n",
    "            elif play[1] == 'blue':\n",
    "                blue = max(blue, play[0])\n",
    "    return red * green * blue"
   ]
  },
  {
   "cell_type": "code",
   "execution_count": 54,
   "metadata": {},
   "outputs": [
    {
     "name": "stdout",
     "output_type": "stream",
     "text": [
      "[27, 288, 1040, 120, 56, 315, 294, 288, 336, 390, 468, 64, 98, 162, 32, 605, 720, 1904, 1404, 42, 990, 52, 60, 800, 864, 180, 1512, 864, 324, 48, 900, 78, 56, 27, 630, 224, 480, 1672, 494, 1980, 20, 2700, 912, 504, 216, 252, 2652, 165, 456, 945, 1360, 480, 99, 143, 1300, 1768, 450, 2618, 1760, 108, 2142, 600, 21, 605, 375, 1320, 612, 392, 128, 136, 360, 4896, 5814, 220, 96, 225, 1512, 150, 648, 152, 1596, 340, 4032, 252, 150, 810, 1224, 91, 2640, 312, 1287, 110, 2970, 2860, 1430, 1920, 392, 1638, 84, 200]\n",
      "84538\n"
     ]
    }
   ],
   "source": [
    "output = [] \n",
    "for game in input:\n",
    "    output.append(findMaxOfColors(game))\n",
    "print(output)\n",
    "print(sum(output))"
   ]
  }
 ],
 "metadata": {
  "kernelspec": {
   "display_name": ".venv",
   "language": "python",
   "name": "python3"
  },
  "language_info": {
   "codemirror_mode": {
    "name": "ipython",
    "version": 3
   },
   "file_extension": ".py",
   "mimetype": "text/x-python",
   "name": "python",
   "nbconvert_exporter": "python",
   "pygments_lexer": "ipython3",
   "version": "3.10.6"
  },
  "orig_nbformat": 4
 },
 "nbformat": 4,
 "nbformat_minor": 2
}

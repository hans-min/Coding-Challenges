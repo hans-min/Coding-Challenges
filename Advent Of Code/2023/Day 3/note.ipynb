{
 "cells": [
  {
   "attachments": {},
   "cell_type": "markdown",
   "metadata": {},
   "source": [
    "Challenges from https://adventofcode.com/2023/day/3 <br />\n",
    "Get the numbers from the input.txt file <br />\n",
    "The input will be a list of unformatted strings. <br />"
   ]
  },
  {
   "cell_type": "code",
   "execution_count": 4,
   "metadata": {},
   "outputs": [
    {
     "name": "stdout",
     "output_type": "stream",
     "text": [
      "['467..114..', '...*......', '..35..633.', '......#...', '617*......', '.....+.58.', '..592.....', '......755.', '...$.*....', '.664.598..']\n"
     ]
    }
   ],
   "source": [
    "input = open(\"smallinput.txt\", \"r\").readlines()\n",
    "input = [elve.strip() for elve in input]\n",
    "print(input)"
   ]
  },
  {
   "cell_type": "code",
   "execution_count": 8,
   "metadata": {},
   "outputs": [
    {
     "name": "stdout",
     "output_type": "stream",
     "text": [
      "467..114..\n",
      "...*......\n",
      "..35..633.\n",
      "......#...\n",
      "617*......\n",
      ".....+.58.\n",
      "..592.....\n",
      "......755.\n",
      "...$.*....\n",
      ".664.598..\n",
      "{1: [3], 3: [6], 4: [3], 5: [5], 8: [3, 5]}\n"
     ]
    }
   ],
   "source": [
    "\n",
    "output = {}\n",
    "possibleSymbols = ['#','$','%','&','*','+','-','/','=','@']\n",
    "for ind, line in enumerate(input):\n",
    "  print(line)\n",
    "  if any(symbol in line for symbol in possibleSymbols):\n",
    "    output[ind] = [i for i, char in enumerate(line) if char in possibleSymbols]\n",
    "print(output)\n"
   ]
  },
  {
   "cell_type": "code",
   "execution_count": null,
   "metadata": {},
   "outputs": [],
   "source": []
  }
 ],
 "metadata": {
  "kernelspec": {
   "display_name": ".venv",
   "language": "python",
   "name": "python3"
  },
  "language_info": {
   "codemirror_mode": {
    "name": "ipython",
    "version": 3
   },
   "file_extension": ".py",
   "mimetype": "text/x-python",
   "name": "python",
   "nbconvert_exporter": "python",
   "pygments_lexer": "ipython3",
   "version": "3.10.6"
  },
  "orig_nbformat": 4
 },
 "nbformat": 4,
 "nbformat_minor": 2
}
